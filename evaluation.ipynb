{
 "cells": [
  {
   "cell_type": "code",
   "execution_count": 1,
   "metadata": {},
   "outputs": [],
   "source": [
    "# evaluation file"
   ]
  },
  {
   "cell_type": "code",
   "execution_count": 22,
   "metadata": {},
   "outputs": [],
   "source": [
    "#inverse kinematics test\n",
    "import torch\n",
    "import torch.nn as nn\n",
    "import numpy as np\n",
    "from FrEIA.framework import InputNode, OutputNode, Node, ReversibleGraphNet\n",
    "from FrEIA.modules import GLOWCouplingBlock, PermuteRandom\n",
    "import random"
   ]
  },
  {
   "cell_type": "code",
   "execution_count": 33,
   "metadata": {},
   "outputs": [],
   "source": [
    "#device = 'cuda' if torch.cuda.is_available() else 'cpu'\n",
    "device = 'cpu'\n",
    "\n",
    "# use no padding\n",
    "ndim_tot = 4\n",
    "ndim_x = 4\n",
    "ndim_y = 2\n",
    "ndim_z = 2\n",
    "\n",
    "def subnet_fc(c_in, c_out):\n",
    "    return nn.Sequential(nn.Linear(c_in, 256), nn.ReLU(),\n",
    "                         nn.Linear(256, 256), nn.ReLU(),\n",
    "                         nn.Linear(256,  c_out))\n",
    "\n",
    "nodes = [InputNode(ndim_tot, name='input')]\n",
    "\n",
    "for k in range(7):\n",
    "    nodes.append(Node(nodes[-1],\n",
    "                      GLOWCouplingBlock,\n",
    "                      {'subnet_constructor':subnet_fc, 'clamp': 0.7},\n",
    "                      name=F'coupling_{k}'))\n",
    "    nodes.append(Node(nodes[-1],\n",
    "                      PermuteRandom,\n",
    "                      {'seed':k},\n",
    "                      name=F'permute_{k}'))\n",
    "\n",
    "nodes.append(OutputNode(nodes[-1], name='output'))\n",
    "\n",
    "model = ReversibleGraphNet(nodes, verbose=False).to(device)\n",
    "\n",
    "# number of gaussians to be used\n",
    "no_gaussians = 2 \n",
    "scale = 0.3\n",
    "means = torch.tensor([[-2.,0],[2.,0]], device = device)\n",
    "\n",
    "\n",
    "\n",
    "prob_net = nn.Sequential(nn.Linear(ndim_y,64), nn.ReLU(),nn.Linear(64,64), nn.ReLU(),\n",
    "                        nn.Linear(64,no_gaussians), nn.Softmax(dim = 1)).to(device)\n",
    "\n",
    "model.load_state_dict(torch.load('Gumbel_new.pt'))\n",
    "prob_net.load_state_dict(torch.load('Gumbel_probs_new.pt'))\n",
    "\n",
    "def f(x):\n",
    "    y1 = x[:,0] + 0.5*torch.sin(x[:,2]-x[:,1])+0.5*torch.sin(x[:,1])+torch.sin(x[:,3]-x[:,2]-x[:,1])\n",
    "    y2 = 0.5*torch.cos(x[:,2]-x[:,1])+0.5*torch.cos(x[:,1])+torch.cos(x[:,3]-x[:,2]-x[:,1])\n",
    "    y1 = y1.view(1,1)\n",
    "    y2 = y2.view(1,1)\n",
    "    return torch.cat((y1,y2),1)"
   ]
  },
  {
   "cell_type": "code",
   "execution_count": 34,
   "metadata": {},
   "outputs": [],
   "source": [
    "def MMD_multiscale(x, y):\n",
    "    xx, yy, zz = torch.mm(x,x.t()), torch.mm(y,y.t()), torch.mm(x,y.t())\n",
    "\n",
    "    rx = (xx.diag().unsqueeze(0).expand_as(xx))\n",
    "    ry = (yy.diag().unsqueeze(0).expand_as(yy))\n",
    "\n",
    "    dxx = rx.t() + rx - 2.*xx\n",
    "    dyy = ry.t() + ry - 2.*yy\n",
    "    dxy = rx.t() + ry - 2.*zz\n",
    "\n",
    "    XX, YY, XY = (torch.zeros(xx.shape).to(device),\n",
    "                  torch.zeros(xx.shape).to(device),\n",
    "                  torch.zeros(xx.shape).to(device))\n",
    "\n",
    "    for a in [0.05, 0.2, 0.9]:\n",
    "        XX += a**2 * (a**2 + dxx)**-1\n",
    "        YY += a**2 * (a**2 + dyy)**-1\n",
    "        XY += a**2 * (a**2 + dxy)**-1\n",
    "\n",
    "    return torch.mean(XX + YY - 2.*XY)\n",
    "\n",
    "no_runs = 50"
   ]
  },
  {
   "cell_type": "code",
   "execution_count": 35,
   "metadata": {},
   "outputs": [
    {
     "name": "stdout",
     "output_type": "stream",
     "text": [
      "tensor(0.0291, grad_fn=<DivBackward0>)\n",
      "tensor(0.0003, grad_fn=<DivBackward0>)\n"
     ]
    }
   ],
   "source": [
    "mean_mmd = 0\n",
    "mean_resim = 0\n",
    "\n",
    "tens = np.load('rejection_samples_multi.npy', allow_pickle = True)\n",
    "tens = torch.tensor(tens).to(device).float()\n",
    "\n",
    "for i in range(no_runs):\n",
    "\n",
    "    y = torch.zeros(len(tens),2, device = device)\n",
    "    y[:,0] = 0.\n",
    "    y[:,1] = 1.5\n",
    "    z = scale*torch.randn(len(tens),2, device = device)\n",
    "    # update the means according to the probabilities\n",
    "    probs = prob_net(y.to(device))\n",
    "    for i in range(len(z)):\n",
    "        num = random.random()\n",
    "        if num < probs[0][0]:\n",
    "            z[i] = z[i] + means[0]\n",
    "        else: \n",
    "            z[i] = z[i] + means[1]     \n",
    "    inp = torch.cat((z,y),1).to(device)\n",
    "    out = model(inp, rev = True)\n",
    "\n",
    "    s = 0 \n",
    "    for j in range(len(out)):\n",
    "        # resimulation error\n",
    "        fx = f(out[j].view(1,4))[0]\n",
    "        s += torch.sum((fx-torch.tensor([0,1.5], device = device))**2)  \n",
    "    \n",
    "    mean_resim += s/len(out)\n",
    "\n",
    "    mean_mmd += MMD_multiscale(tens,out)\n",
    "\n",
    "print(mean_mmd/no_runs)\n",
    "print(mean_resim/no_runs)"
   ]
  },
  {
   "cell_type": "code",
   "execution_count": 36,
   "metadata": {},
   "outputs": [
    {
     "name": "stdout",
     "output_type": "stream",
     "text": [
      "tensor(0.0105, grad_fn=<DivBackward0>)\n",
      "tensor(0.0014, grad_fn=<DivBackward0>)\n"
     ]
    }
   ],
   "source": [
    "mean_mmd = 0\n",
    "mean_resim = 0\n",
    "\n",
    "tens = np.load('rejection_samples_uni.npy', allow_pickle = True)\n",
    "tens = torch.tensor(tens).to(device).float()\n",
    "\n",
    "for i in range(no_runs):\n",
    "    y = torch.zeros(len(tens),2, device = device)\n",
    "    y[:,0] = 0.5\n",
    "    y[:,1] = 1.5\n",
    "    z = scale*torch.randn(len(tens),2, device = device)\n",
    "    # update the means according to the probabilities\n",
    "    probs = prob_net(y.to(device))\n",
    "    for i in range(len(z)):\n",
    "        num = random.random()\n",
    "        if num < probs[0][0]:\n",
    "            z[i] = z[i] + means[0]\n",
    "        else: \n",
    "            z[i] = z[i] + means[1]     \n",
    "    inp = torch.cat((z,y),1).to(device)\n",
    "    out = model(inp, rev = True)\n",
    "\n",
    "    s = 0 \n",
    "    for j in range(len(out)):\n",
    "        # resimulation error\n",
    "        fx = f(out[j].view(1,4))[0]\n",
    "        s += torch.sum((fx-torch.tensor([0.5,1.5], device = device))**2)  \n",
    "    \n",
    "    mean_resim += s/len(out)\n",
    "\n",
    "    mean_mmd += MMD_multiscale(tens,out)\n",
    "\n",
    "print(mean_mmd/no_runs)\n",
    "print(mean_resim/no_runs)"
   ]
  },
  {
   "cell_type": "code",
   "execution_count": 37,
   "metadata": {},
   "outputs": [
    {
     "data": {
      "text/plain": [
       "<All keys matched successfully>"
      ]
     },
     "execution_count": 37,
     "metadata": {},
     "output_type": "execute_result"
    }
   ],
   "source": [
    "def subnet_fc(c_in, c_out):\n",
    "    return nn.Sequential(nn.Linear(c_in, 256), nn.ReLU(),\n",
    "                         nn.Linear(256, 256), nn.ReLU(),\n",
    "                         nn.Linear(256,  c_out))\n",
    "\n",
    "nodes = [InputNode(ndim_tot, name='input')]\n",
    "\n",
    "for k in range(7):\n",
    "    nodes.append(Node(nodes[-1],\n",
    "                      GLOWCouplingBlock,\n",
    "                      {'subnet_constructor':subnet_fc, 'clamp':2.0},\n",
    "                      name=F'coupling_{k}'))\n",
    "    nodes.append(Node(nodes[-1],\n",
    "                      PermuteRandom,\n",
    "                      {'seed':k},\n",
    "                      name=F'permute_{k}'))\n",
    "\n",
    "nodes.append(OutputNode(nodes[-1], name='output'))\n",
    "\n",
    "model = ReversibleGraphNet(nodes, verbose=False).to(device)\n",
    "\n",
    "model.load_state_dict(torch.load('inn.pt'))\n"
   ]
  },
  {
   "cell_type": "code",
   "execution_count": 38,
   "metadata": {},
   "outputs": [
    {
     "name": "stdout",
     "output_type": "stream",
     "text": [
      "tensor(0.0084, grad_fn=<DivBackward0>)\n",
      "tensor(0.0361, grad_fn=<DivBackward0>)\n"
     ]
    }
   ],
   "source": [
    "mean_mmd = 0\n",
    "mean_resim = 0\n",
    "\n",
    "tens = np.load('rejection_samples_multi.npy', allow_pickle = True)\n",
    "tens = torch.tensor(tens, device = device).float()\n",
    "\n",
    "for i in range(no_runs):\n",
    "\n",
    "    y = torch.zeros(len(tens),2, device = device)\n",
    "    y[:,0] = 0.\n",
    "    y[:,1] = 1.5\n",
    "    z = torch.randn(len(tens),2, device = device)\n",
    "\n",
    "    inp = torch.cat((z,y),1).to(device)\n",
    "    out = model(inp, rev = True)\n",
    "\n",
    "    s = 0 \n",
    "    for j in range(len(out)):\n",
    "        # resimulation error\n",
    "        fx = f(out[j].view(1,4))[0]\n",
    "        s += torch.sum((fx-torch.tensor([0,1.5], device = device))**2)  \n",
    "    mean_resim += (s/len(out))\n",
    "    mean_mmd += (MMD_multiscale(tens,out))\n",
    "    \n",
    "print(mean_resim/no_runs)\n",
    "print(mean_mmd/no_runs)"
   ]
  },
  {
   "cell_type": "code",
   "execution_count": null,
   "metadata": {},
   "outputs": [],
   "source": [
    "mean_mmd = 0\n",
    "mean_resim = 0\n",
    "\n",
    "tens = np.load('rejection_samples_uni.npy', allow_pickle = True)\n",
    "tens = torch.tensor(tens, device = device).float()\n",
    "\n",
    "\n",
    "for i in range(no_runs):\n",
    "    y = torch.zeros(len(tens),2, device = device)\n",
    "    y[:,0] = 0.5\n",
    "    y[:,1] = 1.5\n",
    "    z = torch.randn(len(tens),2, device = device)\n",
    "\n",
    "    inp = torch.cat((z,y),1).to(device)\n",
    "    out = model(inp, rev = True)\n",
    "    s = 0 \n",
    "    for j in range(len(out)):\n",
    "        # resimulation error\n",
    "        fx = f(out[j].view(1,4))[0]\n",
    "        s += torch.sum((fx-torch.tensor([0.5,1.5], device = device))**2)  \n",
    "    mean_resim += (s/len(out))\n",
    "    mean_mmd += (MMD_multiscale(tens,out))\n",
    "    \n",
    "print(mean_resim/no_runs)\n",
    "print(mean_mmd/no_runs)"
   ]
  },
  {
   "cell_type": "code",
   "execution_count": null,
   "metadata": {},
   "outputs": [],
   "source": []
  },
  {
   "cell_type": "code",
   "execution_count": null,
   "metadata": {},
   "outputs": [],
   "source": []
  }
 ],
 "metadata": {
  "kernelspec": {
   "display_name": "Python 3",
   "language": "python",
   "name": "python3"
  },
  "language_info": {
   "codemirror_mode": {
    "name": "ipython",
    "version": 3
   },
   "file_extension": ".py",
   "mimetype": "text/x-python",
   "name": "python",
   "nbconvert_exporter": "python",
   "pygments_lexer": "ipython3",
   "version": "3.7.6"
  }
 },
 "nbformat": 4,
 "nbformat_minor": 4
}
